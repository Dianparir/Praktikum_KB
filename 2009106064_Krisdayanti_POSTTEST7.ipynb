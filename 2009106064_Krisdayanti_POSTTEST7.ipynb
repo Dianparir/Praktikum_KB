{
 "cells": [
  {
   "cell_type": "markdown",
   "id": "65056dd1",
   "metadata": {},
   "source": [
    "## POSTTEST 7 Kecerdasan Buatan\n",
    "Nama : Krisdayanti\n",
    "\n",
    "NIM : 2009106064\n",
    "\n",
    "Kelas : KB B1'20"
   ]
  },
  {
   "cell_type": "code",
   "execution_count": 1,
   "id": "11d8282e",
   "metadata": {},
   "outputs": [],
   "source": [
    "import tensorflow as tf"
   ]
  },
  {
   "cell_type": "markdown",
   "id": "c974e31f",
   "metadata": {},
   "source": [
    "- Membuat sebuah tensor dengan shape(5,5) dengan nilai random yang disimpan dalam variable random_tensor"
   ]
  },
  {
   "cell_type": "code",
   "execution_count": 2,
   "id": "540c6772",
   "metadata": {},
   "outputs": [],
   "source": [
    "random_tensor = tf.random.normal([5,5], mean=0, stddev=1, seed=1).numpy()"
   ]
  },
  {
   "cell_type": "code",
   "execution_count": 3,
   "id": "48a16226",
   "metadata": {},
   "outputs": [
    {
     "data": {
      "text/plain": [
       "array([[-0.8113182 ,  1.4845988 ,  0.06532937, -2.4427042 ,  0.0992484 ],\n",
       "       [ 0.5912243 ,  0.59282297, -2.1229296 , -0.72289723, -0.05627038],\n",
       "       [ 0.6435448 , -0.26432407,  1.8566332 ,  0.5678417 , -0.3828359 ],\n",
       "       [-1.4853433 ,  1.2617711 , -0.02530608, -0.2646297 ,  1.5328138 ],\n",
       "       [-1.7429771 , -0.43789294, -0.56601   ,  0.32066926,  1.132831  ]],\n",
       "      dtype=float32)"
      ]
     },
     "execution_count": 3,
     "metadata": {},
     "output_type": "execute_result"
    }
   ],
   "source": [
    "random_tensor"
   ]
  },
  {
   "cell_type": "markdown",
   "id": "3c0ca94a",
   "metadata": {},
   "source": [
    "- Membuat sebuah tensor dengan shape(5,5) dengan variable prime_tensor yang berisi list nilai bilangan prima"
   ]
  },
  {
   "cell_type": "code",
   "execution_count": 4,
   "id": "8fc7eee4",
   "metadata": {},
   "outputs": [],
   "source": [
    "prime_tensor = [[2,83,5,7,61], [13,47,19,43,29], [31,37,41,23,17], [53,59,11,71,73], [79,3,89,97,2]]\n",
    "prime_tensor\n",
    "\n",
    "prime_tensor_dimension = tf.convert_to_tensor(prime_tensor, dtype=tf.int64)"
   ]
  },
  {
   "cell_type": "markdown",
   "id": "11740513",
   "metadata": {},
   "source": [
    "- Menampilkan dimensi dari kedua variable"
   ]
  },
  {
   "cell_type": "code",
   "execution_count": 5,
   "id": "e3e0beff",
   "metadata": {},
   "outputs": [
    {
     "data": {
      "text/plain": [
       "(5, 5)"
      ]
     },
     "execution_count": 5,
     "metadata": {},
     "output_type": "execute_result"
    }
   ],
   "source": [
    "random_tensor.shape #menampilkan dimensi variable random_tensor"
   ]
  },
  {
   "cell_type": "code",
   "execution_count": 6,
   "id": "11920339",
   "metadata": {},
   "outputs": [
    {
     "data": {
      "text/plain": [
       "TensorShape([5, 5])"
      ]
     },
     "execution_count": 6,
     "metadata": {},
     "output_type": "execute_result"
    }
   ],
   "source": [
    "prime_tensor_dimension.shape #menampilkan dimensi variable prime_tensor_dimension"
   ]
  },
  {
   "cell_type": "markdown",
   "id": "82cc4bfc",
   "metadata": {},
   "source": [
    "## Operator Artimetika"
   ]
  },
  {
   "cell_type": "markdown",
   "id": "855453e4",
   "metadata": {},
   "source": [
    "- Menampilkan hasil perhitungan aritmetika dari variable random_tensor dengan variable prime_tensor_dimension"
   ]
  },
  {
   "cell_type": "markdown",
   "id": "53317de4",
   "metadata": {},
   "source": [
    "1. Operator penjumlahan → tf.add()"
   ]
  },
  {
   "cell_type": "code",
   "execution_count": 7,
   "id": "73f0e159",
   "metadata": {},
   "outputs": [
    {
     "data": {
      "text/plain": [
       "<tf.Tensor: shape=(5, 5), dtype=float32, numpy=\n",
       "array([[ 1.1886818, 84.4846   ,  5.0653296,  4.557296 , 61.099247 ],\n",
       "       [13.591225 , 47.592823 , 16.877071 , 42.277103 , 28.94373  ],\n",
       "       [31.643545 , 36.735676 , 42.856632 , 23.567842 , 16.617165 ],\n",
       "       [51.514656 , 60.261772 , 10.974694 , 70.73537  , 74.532814 ],\n",
       "       [77.25702  ,  2.562107 , 88.43399  , 97.32067  ,  3.132831 ]],\n",
       "      dtype=float32)>"
      ]
     },
     "execution_count": 7,
     "metadata": {},
     "output_type": "execute_result"
    }
   ],
   "source": [
    "tf.add(random_tensor, prime_tensor)"
   ]
  },
  {
   "cell_type": "markdown",
   "id": "a8cfb0e2",
   "metadata": {},
   "source": [
    "2. Operator pengurangan → tf.subtraction()"
   ]
  },
  {
   "cell_type": "code",
   "execution_count": 8,
   "id": "6a687e62",
   "metadata": {},
   "outputs": [
    {
     "data": {
      "text/plain": [
       "<tf.Tensor: shape=(5, 5), dtype=float32, numpy=\n",
       "array([[ -2.8113182, -81.5154   ,  -4.9346704,  -9.442704 , -60.900753 ],\n",
       "       [-12.408775 , -46.407177 , -21.122929 , -43.722897 , -29.05627  ],\n",
       "       [-30.356455 , -37.264324 , -39.143368 , -22.432158 , -17.382835 ],\n",
       "       [-54.485344 , -57.738228 , -11.025306 , -71.26463  , -71.467186 ],\n",
       "       [-80.74298  ,  -3.437893 , -89.56601  , -96.67933  ,  -0.867169 ]],\n",
       "      dtype=float32)>"
      ]
     },
     "execution_count": 8,
     "metadata": {},
     "output_type": "execute_result"
    }
   ],
   "source": [
    "tf.subtract(random_tensor, prime_tensor)"
   ]
  },
  {
   "cell_type": "markdown",
   "id": "da18b631",
   "metadata": {},
   "source": [
    "3. Operator perkalian → tf.multiply()"
   ]
  },
  {
   "cell_type": "code",
   "execution_count": 9,
   "id": "69d883c1",
   "metadata": {},
   "outputs": [
    {
     "data": {
      "text/plain": [
       "<tf.Tensor: shape=(5, 5), dtype=float32, numpy=\n",
       "array([[  -1.6226364 ,  123.221695  ,    0.32664686,  -17.09893   ,\n",
       "           6.0541525 ],\n",
       "       [   7.685916  ,   27.86268   ,  -40.335663  ,  -31.084581  ,\n",
       "          -1.6318411 ],\n",
       "       [  19.949888  ,   -9.77999   ,   76.12196   ,   13.060359  ,\n",
       "          -6.50821   ],\n",
       "       [ -78.7232    ,   74.444496  ,   -0.27836686,  -18.788708  ,\n",
       "         111.89541   ],\n",
       "       [-137.69519   ,   -1.3136789 ,  -50.37489   ,   31.10492   ,\n",
       "           2.265662  ]], dtype=float32)>"
      ]
     },
     "execution_count": 9,
     "metadata": {},
     "output_type": "execute_result"
    }
   ],
   "source": [
    "tf.multiply(random_tensor, prime_tensor)"
   ]
  },
  {
   "cell_type": "markdown",
   "id": "1a92c0d4",
   "metadata": {},
   "source": [
    "4. Operator pembagian → tf.divide()"
   ]
  },
  {
   "cell_type": "code",
   "execution_count": 10,
   "id": "4467b946",
   "metadata": {},
   "outputs": [
    {
     "data": {
      "text/plain": [
       "<tf.Tensor: shape=(5, 5), dtype=float32, numpy=\n",
       "array([[-0.4056591 ,  0.01788673,  0.01306587, -0.34895775,  0.00162702],\n",
       "       [ 0.04547879,  0.01261325, -0.11173314, -0.01681156, -0.00194036],\n",
       "       [ 0.02075951, -0.00714389,  0.04528373,  0.02468877, -0.02251976],\n",
       "       [-0.02802535,  0.02138595, -0.00230055, -0.00372718,  0.02099745],\n",
       "       [-0.022063  , -0.14596431, -0.00635966,  0.00330587,  0.5664155 ]],\n",
       "      dtype=float32)>"
      ]
     },
     "execution_count": 10,
     "metadata": {},
     "output_type": "execute_result"
    }
   ],
   "source": [
    "tf.divide(random_tensor, prime_tensor)"
   ]
  },
  {
   "cell_type": "markdown",
   "id": "a641c9d2",
   "metadata": {},
   "source": [
    "5. Operator pangkat → tf.pow()"
   ]
  },
  {
   "cell_type": "code",
   "execution_count": 11,
   "id": "1cd97354",
   "metadata": {},
   "outputs": [
    {
     "data": {
      "text/plain": [
       "<tf.Tensor: shape=(5, 5), dtype=float32, numpy=\n",
       "array([[ 6.58237278e-01,  1.75208292e+14,  1.18998764e-06,\n",
       "        -5.18914917e+02,  0.00000000e+00],\n",
       "       [ 1.07839960e-03,  2.12557298e-11, -1.62845650e+06,\n",
       "        -8.71549673e-07, -5.72948387e-37],\n",
       "       [ 1.16397109e-06, -4.15966456e-22,  1.04176673e+11,\n",
       "         2.22447557e-06, -8.15107839e-08],\n",
       "       [-1.27886054e+09,  9.07514625e+05, -2.72567179e-18,\n",
       "        -0.00000000e+00,  3.47317018e+13],\n",
       "       [-1.15356923e+19, -8.39660764e-02, -1.00310215e-22,\n",
       "         0.00000000e+00,  1.28330600e+00]], dtype=float32)>"
      ]
     },
     "execution_count": 11,
     "metadata": {},
     "output_type": "execute_result"
    }
   ],
   "source": [
    "tf.pow(random_tensor, prime_tensor)"
   ]
  },
  {
   "cell_type": "markdown",
   "id": "dd375593",
   "metadata": {},
   "source": [
    "6. Operator logaritma → tf.math.log()"
   ]
  },
  {
   "cell_type": "code",
   "execution_count": 12,
   "id": "983b6cbd",
   "metadata": {},
   "outputs": [
    {
     "data": {
      "text/plain": [
       "<tf.Tensor: shape=(5, 5), dtype=float32, numpy=\n",
       "array([[        nan,  0.39514455, -2.7283134 ,         nan, -2.3101294 ],\n",
       "       [-0.5255598 , -0.52285945,         nan,         nan,         nan],\n",
       "       [-0.44076362,         nan,  0.61876476, -0.5659126 ,         nan],\n",
       "       [        nan,  0.23251635,         nan,         nan,  0.42710513],\n",
       "       [        nan,         nan,         nan, -1.1373451 ,  0.12471979]],\n",
       "      dtype=float32)>"
      ]
     },
     "execution_count": 12,
     "metadata": {},
     "output_type": "execute_result"
    }
   ],
   "source": [
    "tf.math.log(random_tensor)"
   ]
  },
  {
   "cell_type": "markdown",
   "id": "566f9c5b",
   "metadata": {},
   "source": [
    "## Tensor Statistics Collection (Min & Max)"
   ]
  },
  {
   "cell_type": "markdown",
   "id": "222afbf7",
   "metadata": {},
   "source": [
    "- Menampilkan nilai maksimal dan minimal dari variable random_tensor"
   ]
  },
  {
   "cell_type": "markdown",
   "id": "182666e1",
   "metadata": {},
   "source": [
    "Nilai maksimal"
   ]
  },
  {
   "cell_type": "code",
   "execution_count": 13,
   "id": "d8cd0030",
   "metadata": {},
   "outputs": [
    {
     "data": {
      "text/plain": [
       "<tf.Tensor: shape=(5,), dtype=int64, numpy=array([2, 0, 2, 2, 3], dtype=int64)>"
      ]
     },
     "execution_count": 13,
     "metadata": {},
     "output_type": "execute_result"
    }
   ],
   "source": [
    "tf.argmax(random_tensor, axis = 0)"
   ]
  },
  {
   "cell_type": "markdown",
   "id": "e673ff64",
   "metadata": {},
   "source": [
    "Nilai minimal"
   ]
  },
  {
   "cell_type": "code",
   "execution_count": 14,
   "id": "479c2d09",
   "metadata": {},
   "outputs": [
    {
     "data": {
      "text/plain": [
       "<tf.Tensor: shape=(5,), dtype=int64, numpy=array([4, 4, 1, 0, 2], dtype=int64)>"
      ]
     },
     "execution_count": 14,
     "metadata": {},
     "output_type": "execute_result"
    }
   ],
   "source": [
    "tf.argmin(random_tensor, axis = 0)"
   ]
  },
  {
   "cell_type": "markdown",
   "id": "241b7c60",
   "metadata": {},
   "source": [
    "## Concatenation"
   ]
  },
  {
   "cell_type": "markdown",
   "id": "3741fd4d",
   "metadata": {},
   "source": [
    "- Menampilkan hasil dari penggabungan variable random_tensor dengan prime_tensor"
   ]
  },
  {
   "cell_type": "code",
   "execution_count": 15,
   "id": "6c44f0c1",
   "metadata": {},
   "outputs": [
    {
     "name": "stdout",
     "output_type": "stream",
     "text": [
      "Size of the Concatenated Data : tf.Tensor(\n",
      "[[-8.1131822e-01  1.4845988e+00  6.5329373e-02 -2.4427042e+00\n",
      "   9.9248402e-02]\n",
      " [ 5.9122431e-01  5.9282297e-01 -2.1229296e+00 -7.2289723e-01\n",
      "  -5.6270380e-02]\n",
      " [ 6.4354479e-01 -2.6432407e-01  1.8566332e+00  5.6784171e-01\n",
      "  -3.8283589e-01]\n",
      " [-1.4853433e+00  1.2617711e+00 -2.5306080e-02 -2.6462969e-01\n",
      "   1.5328138e+00]\n",
      " [-1.7429771e+00 -4.3789294e-01 -5.6601000e-01  3.2066926e-01\n",
      "   1.1328310e+00]\n",
      " [ 2.0000000e+00  8.3000000e+01  5.0000000e+00  7.0000000e+00\n",
      "   6.1000000e+01]\n",
      " [ 1.3000000e+01  4.7000000e+01  1.9000000e+01  4.3000000e+01\n",
      "   2.9000000e+01]\n",
      " [ 3.1000000e+01  3.7000000e+01  4.1000000e+01  2.3000000e+01\n",
      "   1.7000000e+01]\n",
      " [ 5.3000000e+01  5.9000000e+01  1.1000000e+01  7.1000000e+01\n",
      "   7.3000000e+01]\n",
      " [ 7.9000000e+01  3.0000000e+00  8.9000000e+01  9.7000000e+01\n",
      "   2.0000000e+00]], shape=(10, 5), dtype=float32)\n"
     ]
    }
   ],
   "source": [
    "concated_sample_1 = tf.concat([random_tensor, prime_tensor], axis=0)\n",
    "print(\"Size of the Concatenated Data :\", concated_sample_1)"
   ]
  },
  {
   "cell_type": "markdown",
   "id": "79155255",
   "metadata": {},
   "source": [
    "## Tensor Sorting"
   ]
  },
  {
   "cell_type": "markdown",
   "id": "c2f3b67e",
   "metadata": {},
   "source": [
    "- Menampilkan hasil sorting dari variable random_tensor dan prime_tensor secara descending"
   ]
  },
  {
   "cell_type": "code",
   "execution_count": 16,
   "id": "879bd32f",
   "metadata": {},
   "outputs": [
    {
     "data": {
      "text/plain": [
       "<tf.Tensor: shape=(5, 5), dtype=int32, numpy=\n",
       "array([[1, 4, 2, 0, 3],\n",
       "       [1, 0, 4, 3, 2],\n",
       "       [2, 0, 3, 1, 4],\n",
       "       [4, 1, 2, 3, 0],\n",
       "       [4, 3, 1, 2, 0]])>"
      ]
     },
     "execution_count": 16,
     "metadata": {},
     "output_type": "execute_result"
    }
   ],
   "source": [
    "tf.argsort(random_tensor, direction=\"DESCENDING\")"
   ]
  },
  {
   "cell_type": "code",
   "execution_count": 17,
   "id": "8cadf252",
   "metadata": {},
   "outputs": [
    {
     "data": {
      "text/plain": [
       "<tf.Tensor: shape=(5, 5), dtype=int32, numpy=\n",
       "array([[1, 4, 3, 2, 0],\n",
       "       [1, 3, 4, 2, 0],\n",
       "       [2, 1, 0, 3, 4],\n",
       "       [4, 3, 1, 0, 2],\n",
       "       [3, 2, 0, 1, 4]])>"
      ]
     },
     "execution_count": 17,
     "metadata": {},
     "output_type": "execute_result"
    }
   ],
   "source": [
    "tf.argsort(prime_tensor, direction=\"DESCENDING\")"
   ]
  }
 ],
 "metadata": {
  "kernelspec": {
   "display_name": "Python 3 (ipykernel)",
   "language": "python",
   "name": "python3"
  },
  "language_info": {
   "codemirror_mode": {
    "name": "ipython",
    "version": 3
   },
   "file_extension": ".py",
   "mimetype": "text/x-python",
   "name": "python",
   "nbconvert_exporter": "python",
   "pygments_lexer": "ipython3",
   "version": "3.10.7"
  }
 },
 "nbformat": 4,
 "nbformat_minor": 5
}
