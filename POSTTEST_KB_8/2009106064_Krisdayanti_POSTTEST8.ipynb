{
 "cells": [
  {
   "cell_type": "markdown",
   "id": "056c6535",
   "metadata": {},
   "source": [
    "## POSTTEST 8 Kecerdasan Buatan\n",
    "Nama : Krisdayanti\n",
    "\n",
    "NIM : 2009106064\n",
    "\n",
    "Kelas : KB B1'20"
   ]
  },
  {
   "cell_type": "markdown",
   "id": "da6c8696",
   "metadata": {},
   "source": [
    "### Import Library"
   ]
  },
  {
   "cell_type": "code",
   "execution_count": 1,
   "id": "a9780a1b",
   "metadata": {},
   "outputs": [],
   "source": [
    "import matplotlib.pyplot as plt\n",
    "import numpy as np\n",
    "import pandas as pd\n",
    "from sklearn.model_selection import train_test_split\n",
    "from sklearn.preprocessing import StandardScaler\n",
    "import tensorflow as tf\n",
    "from tensorflow.keras.utils import to_categorical"
   ]
  },
  {
   "cell_type": "markdown",
   "id": "232eb523",
   "metadata": {},
   "source": [
    "### Import & Read Dataset"
   ]
  },
  {
   "cell_type": "code",
   "execution_count": 2,
   "id": "054ea474",
   "metadata": {},
   "outputs": [],
   "source": [
    "ds = pd.read_csv('my_dataset\\Earthquakes in Indonesia.csv')"
   ]
  },
  {
   "cell_type": "code",
   "execution_count": 3,
   "id": "0ca13edd",
   "metadata": {},
   "outputs": [
    {
     "data": {
      "text/plain": [
       "Index(['lat', 'lon', 'depth', 'mag', 'remark', 'strike1', 'dip1', 'rake1',\n",
       "       'strike2', 'dip2', 'rake2'],\n",
       "      dtype='object')"
      ]
     },
     "execution_count": 3,
     "metadata": {},
     "output_type": "execute_result"
    }
   ],
   "source": [
    "ds.columns"
   ]
  },
  {
   "cell_type": "code",
   "execution_count": 4,
   "id": "62db7853",
   "metadata": {},
   "outputs": [
    {
     "name": "stdout",
     "output_type": "stream",
     "text": [
      "<class 'pandas.core.frame.DataFrame'>\n",
      "RangeIndex: 2356 entries, 0 to 2355\n",
      "Data columns (total 11 columns):\n",
      " #   Column   Non-Null Count  Dtype  \n",
      "---  ------   --------------  -----  \n",
      " 0   lat      2356 non-null   float64\n",
      " 1   lon      2356 non-null   float64\n",
      " 2   depth    2356 non-null   int64  \n",
      " 3   mag      2356 non-null   float64\n",
      " 4   remark   2356 non-null   object \n",
      " 5   strike1  80 non-null     float64\n",
      " 6   dip1     80 non-null     float64\n",
      " 7   rake1    80 non-null     float64\n",
      " 8   strike2  80 non-null     float64\n",
      " 9   dip2     80 non-null     float64\n",
      " 10  rake2    80 non-null     float64\n",
      "dtypes: float64(9), int64(1), object(1)\n",
      "memory usage: 202.6+ KB\n"
     ]
    }
   ],
   "source": [
    "ds.info()"
   ]
  },
  {
   "cell_type": "markdown",
   "id": "df4a7f71",
   "metadata": {},
   "source": [
    "### Transformasi Dataset"
   ]
  },
  {
   "cell_type": "code",
   "execution_count": 5,
   "id": "863f7482",
   "metadata": {},
   "outputs": [],
   "source": [
    "ds['remark'] = ds['remark'].replace(['Aru Islands Region - Indonesia', 'Bali Region - Indonesia', 'Halmahera - Indonesia',\n",
    "                                   'Irian Jaya - Indonesia', 'Irian Jaya Region - Indonesia', 'Minahassa Peninsula - Sulawesi',\n",
    "                                   'Mindanao - Philippines', 'Near North Coast of Irian Jaya', 'South of Bali - Indonesia',\n",
    "                                   'Southern Molucca Sea'],\n",
    "                                    [0, 1, 2, 3, 4, 5, 6, 7, 8, 9]) #melakukan tranformasi data"
   ]
  },
  {
   "cell_type": "markdown",
   "id": "2357d4ed",
   "metadata": {},
   "source": [
    "### standarisasi dataset"
   ]
  },
  {
   "cell_type": "code",
   "execution_count": 6,
   "id": "20f54f12",
   "metadata": {},
   "outputs": [],
   "source": [
    "std_scaler = StandardScaler()"
   ]
  },
  {
   "cell_type": "markdown",
   "id": "3959ea10",
   "metadata": {},
   "source": [
    "### Data Split"
   ]
  },
  {
   "cell_type": "code",
   "execution_count": 7,
   "id": "57787a13",
   "metadata": {},
   "outputs": [],
   "source": [
    "X = ds[['lat', 'lon', 'depth', 'mag', 'strike1', 'dip1', 'rake1', 'strike2', 'dip2', 'rake2']] #data\n",
    "Y = ds['remark'] #label"
   ]
  },
  {
   "cell_type": "code",
   "execution_count": 8,
   "id": "e1f05419",
   "metadata": {},
   "outputs": [],
   "source": [
    "x_train, x_test, y_train, y_test = train_test_split(X, Y, random_state = True, test_size=.2) #Membagi data untuk data traininf dan data testing"
   ]
  },
  {
   "cell_type": "code",
   "execution_count": 9,
   "id": "cbea4d45",
   "metadata": {},
   "outputs": [],
   "source": [
    "from tensorflow.keras.losses import categorical_crossentropy\n",
    "from tensorflow.keras.optimizers import Adam\n",
    "from tensorflow.keras.utils import to_categorical"
   ]
  },
  {
   "cell_type": "code",
   "execution_count": 10,
   "id": "1913f347",
   "metadata": {},
   "outputs": [
    {
     "name": "stdout",
     "output_type": "stream",
     "text": [
      "panjang x train : 1884\n",
      " panjang y train : 1884\n",
      " panjang x test : 472\n",
      " panjang y test : 472\n",
      "\n"
     ]
    }
   ],
   "source": [
    "print(f'panjang x train : {len(x_train)}\\n',\n",
    "f'panjang y train : {len(y_train)}\\n',\n",
    "f'panjang x test : {len(x_test)}\\n',\n",
    "f'panjang y test : {len(y_test)}\\n')"
   ]
  },
  {
   "cell_type": "markdown",
   "id": "8b46f553",
   "metadata": {},
   "source": [
    "### Melihat shape x_train & x_test"
   ]
  },
  {
   "cell_type": "code",
   "execution_count": 11,
   "id": "d6044821",
   "metadata": {},
   "outputs": [
    {
     "name": "stdout",
     "output_type": "stream",
     "text": [
      "x_train shape: (1884, 10)\n",
      "x_test shape: (472, 10)\n"
     ]
    }
   ],
   "source": [
    "print('x_train shape:', x_train.shape)\n",
    "print('x_test shape:', x_test.shape)"
   ]
  },
  {
   "cell_type": "markdown",
   "id": "95674a07",
   "metadata": {},
   "source": [
    "### Deklarasi y_train & y_test"
   ]
  },
  {
   "cell_type": "code",
   "execution_count": 12,
   "id": "951a69e9",
   "metadata": {},
   "outputs": [],
   "source": [
    "num_class = 12\n",
    "y_train = tf.keras.utils.to_categorical(y_train, num_class)\n",
    "y_test = tf.keras.utils.to_categorical(y_test, num_class)"
   ]
  },
  {
   "cell_type": "code",
   "execution_count": 13,
   "id": "c1449d16",
   "metadata": {},
   "outputs": [],
   "source": [
    "x_train = tf.reshape(x_train, [1884, 10])\n",
    "x_test = tf.reshape(x_test, [472, 10])"
   ]
  },
  {
   "cell_type": "markdown",
   "id": "d43882be",
   "metadata": {},
   "source": [
    "### Membuat Sequential Model"
   ]
  },
  {
   "cell_type": "code",
   "execution_count": 14,
   "id": "826da866",
   "metadata": {},
   "outputs": [],
   "source": [
    "import keras\n",
    "from keras.models import Sequential\n",
    "from keras.layers import Dense, Dropout"
   ]
  },
  {
   "cell_type": "code",
   "execution_count": 15,
   "id": "97861a4f",
   "metadata": {},
   "outputs": [
    {
     "name": "stdout",
     "output_type": "stream",
     "text": [
      "Model: \"sequential\"\n",
      "_________________________________________________________________\n",
      " Layer (type)                Output Shape              Param #   \n",
      "=================================================================\n",
      " dense (Dense)               (None, 16)                176       \n",
      "                                                                 \n",
      " dense_1 (Dense)             (None, 12)                204       \n",
      "                                                                 \n",
      "=================================================================\n",
      "Total params: 380\n",
      "Trainable params: 380\n",
      "Non-trainable params: 0\n",
      "_________________________________________________________________\n"
     ]
    }
   ],
   "source": [
    "model = tf.keras.Sequential([\n",
    "    tf.keras.layers.Dense(16, activation='relu', input_dim=10),\n",
    "    tf.keras.layers.Dense(num_class, activation='softmax')\n",
    "])\n",
    "model.summary()"
   ]
  },
  {
   "cell_type": "markdown",
   "id": "3d9208a7",
   "metadata": {},
   "source": [
    "### Optimalisasi dengan menggunakan optimizer, model adam dan loss menggunakan categorical"
   ]
  },
  {
   "cell_type": "code",
   "execution_count": 16,
   "id": "51557b54",
   "metadata": {},
   "outputs": [],
   "source": [
    "model.compile(\n",
    "    optimizer=tf.keras.optimizers.Adam(),\n",
    "    loss=tf.keras.losses.categorical_crossentropy,\n",
    "    metrics=['accuracy']\n",
    ")"
   ]
  },
  {
   "cell_type": "markdown",
   "id": "01efaeb6",
   "metadata": {},
   "source": [
    "### training data dengan epochs=10 dan steps per epoch=25"
   ]
  },
  {
   "cell_type": "code",
   "execution_count": 17,
   "id": "47febcbf",
   "metadata": {},
   "outputs": [
    {
     "name": "stdout",
     "output_type": "stream",
     "text": [
      "Epoch 1/10\n",
      "25/25 [==============================] - 2s 29ms/step - loss: nan - accuracy: 0.0011 - val_loss: nan - val_accuracy: 0.0042\n",
      "Epoch 2/10\n",
      "25/25 [==============================] - 0s 13ms/step - loss: nan - accuracy: 0.0011 - val_loss: nan - val_accuracy: 0.0042\n",
      "Epoch 3/10\n",
      "25/25 [==============================] - 0s 9ms/step - loss: nan - accuracy: 0.0011 - val_loss: nan - val_accuracy: 0.0042\n",
      "Epoch 4/10\n",
      "25/25 [==============================] - 0s 7ms/step - loss: nan - accuracy: 0.0011 - val_loss: nan - val_accuracy: 0.0042\n",
      "Epoch 5/10\n",
      "25/25 [==============================] - 0s 6ms/step - loss: nan - accuracy: 0.0011 - val_loss: nan - val_accuracy: 0.0042\n",
      "Epoch 6/10\n",
      "25/25 [==============================] - 0s 5ms/step - loss: nan - accuracy: 0.0011 - val_loss: nan - val_accuracy: 0.0042\n",
      "Epoch 7/10\n",
      "25/25 [==============================] - 0s 7ms/step - loss: nan - accuracy: 0.0011 - val_loss: nan - val_accuracy: 0.0042\n",
      "Epoch 8/10\n",
      "25/25 [==============================] - 0s 7ms/step - loss: nan - accuracy: 0.0011 - val_loss: nan - val_accuracy: 0.0042\n",
      "Epoch 9/10\n",
      "25/25 [==============================] - 0s 7ms/step - loss: nan - accuracy: 0.0011 - val_loss: nan - val_accuracy: 0.0042\n",
      "Epoch 10/10\n",
      "25/25 [==============================] - 0s 6ms/step - loss: nan - accuracy: 0.0011 - val_loss: nan - val_accuracy: 0.0042\n"
     ]
    }
   ],
   "source": [
    "history = model.fit(\n",
    "    x = x_train,y =  y_train,\n",
    "    epochs = 10, \n",
    "    steps_per_epoch = 25,\n",
    "    #verbose = 2\n",
    "    validation_data=(x_test, y_test)\n",
    ")"
   ]
  },
  {
   "cell_type": "markdown",
   "id": "c33a68d8",
   "metadata": {},
   "source": [
    "### Akurasi Dataset"
   ]
  },
  {
   "cell_type": "code",
   "execution_count": 18,
   "id": "c380d3d1",
   "metadata": {},
   "outputs": [
    {
     "name": "stdout",
     "output_type": "stream",
     "text": [
      "Test loss: nan\n",
      "Test accuracy: 0.0042372881434857845\n"
     ]
    }
   ],
   "source": [
    "score = model.evaluate(x_test, y_test, verbose=0)\n",
    "print('Test loss:', score[0])\n",
    "print('Test accuracy:', score[1])"
   ]
  }
 ],
 "metadata": {
  "kernelspec": {
   "display_name": "Krisdt_064",
   "language": "python",
   "name": "krisdt_064"
  },
  "language_info": {
   "codemirror_mode": {
    "name": "ipython",
    "version": 3
   },
   "file_extension": ".py",
   "mimetype": "text/x-python",
   "name": "python",
   "nbconvert_exporter": "python",
   "pygments_lexer": "ipython3",
   "version": "3.10.7"
  }
 },
 "nbformat": 4,
 "nbformat_minor": 5
}
