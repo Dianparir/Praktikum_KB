{
 "cells": [
  {
   "cell_type": "markdown",
   "id": "aaf6759b",
   "metadata": {},
   "source": [
    "## POSTTEST 2 Kecerdasan Buatan\n",
    "Nama  : Krisdayanti\n",
    "\n",
    "NIM   : 2009106064\n",
    "\n",
    "Kelas : KB B1'20"
   ]
  },
  {
   "cell_type": "markdown",
   "id": "63f06941",
   "metadata": {},
   "source": [
    "# Import Library"
   ]
  },
  {
   "cell_type": "code",
   "execution_count": 1,
   "id": "2c67ae44",
   "metadata": {},
   "outputs": [],
   "source": [
    "import pandas as pd\n",
    "import prettytable as pt"
   ]
  },
  {
   "cell_type": "code",
   "execution_count": 2,
   "id": "57655d09",
   "metadata": {},
   "outputs": [],
   "source": [
    "df = pd.read_csv(\"my_dataset/Popular_Movies_TV_shows_from_Prime_Videos_Netflix_version_3.csv\")"
   ]
  },
  {
   "cell_type": "code",
   "execution_count": 3,
   "id": "f68223ae",
   "metadata": {},
   "outputs": [
    {
     "data": {
      "text/html": [
       "<div>\n",
       "<style scoped>\n",
       "    .dataframe tbody tr th:only-of-type {\n",
       "        vertical-align: middle;\n",
       "    }\n",
       "\n",
       "    .dataframe tbody tr th {\n",
       "        vertical-align: top;\n",
       "    }\n",
       "\n",
       "    .dataframe thead th {\n",
       "        text-align: right;\n",
       "    }\n",
       "</style>\n",
       "<table border=\"1\" class=\"dataframe\">\n",
       "  <thead>\n",
       "    <tr style=\"text-align: right;\">\n",
       "      <th></th>\n",
       "      <th>Unnamed: 0</th>\n",
       "      <th>ID</th>\n",
       "      <th>Title</th>\n",
       "      <th>Year</th>\n",
       "      <th>Rating</th>\n",
       "      <th>IMDb</th>\n",
       "      <th>Rotten Tomatoes</th>\n",
       "      <th>Genre</th>\n",
       "      <th>Netflix</th>\n",
       "      <th>Amazon Prime Video</th>\n",
       "    </tr>\n",
       "  </thead>\n",
       "  <tbody>\n",
       "    <tr>\n",
       "      <th>24644</th>\n",
       "      <td>24644</td>\n",
       "      <td>24645</td>\n",
       "      <td>Next Enti?</td>\n",
       "      <td>2018</td>\n",
       "      <td>NaN</td>\n",
       "      <td>4.5</td>\n",
       "      <td>29</td>\n",
       "      <td>Drama</td>\n",
       "      <td>1</td>\n",
       "      <td>0</td>\n",
       "    </tr>\n",
       "    <tr>\n",
       "      <th>24645</th>\n",
       "      <td>24645</td>\n",
       "      <td>24646</td>\n",
       "      <td>Slam</td>\n",
       "      <td>2008</td>\n",
       "      <td>NaN</td>\n",
       "      <td>5.9</td>\n",
       "      <td>42</td>\n",
       "      <td>Drama</td>\n",
       "      <td>1</td>\n",
       "      <td>0</td>\n",
       "    </tr>\n",
       "    <tr>\n",
       "      <th>24646</th>\n",
       "      <td>24646</td>\n",
       "      <td>24647</td>\n",
       "      <td>III Smoking Barrels</td>\n",
       "      <td>2017</td>\n",
       "      <td>NaN</td>\n",
       "      <td>6.6</td>\n",
       "      <td>33</td>\n",
       "      <td>Drama</td>\n",
       "      <td>1</td>\n",
       "      <td>0</td>\n",
       "    </tr>\n",
       "    <tr>\n",
       "      <th>24647</th>\n",
       "      <td>24647</td>\n",
       "      <td>24648</td>\n",
       "      <td>Si Doel the Movie 2</td>\n",
       "      <td>2019</td>\n",
       "      <td>NaN</td>\n",
       "      <td>6.9</td>\n",
       "      <td>42</td>\n",
       "      <td>Drama</td>\n",
       "      <td>1</td>\n",
       "      <td>0</td>\n",
       "    </tr>\n",
       "    <tr>\n",
       "      <th>24648</th>\n",
       "      <td>24648</td>\n",
       "      <td>24649</td>\n",
       "      <td>Kalki</td>\n",
       "      <td>2018</td>\n",
       "      <td>NaN</td>\n",
       "      <td>6.5</td>\n",
       "      <td>38</td>\n",
       "      <td>Drama</td>\n",
       "      <td>1</td>\n",
       "      <td>0</td>\n",
       "    </tr>\n",
       "    <tr>\n",
       "      <th>24649</th>\n",
       "      <td>24649</td>\n",
       "      <td>24650</td>\n",
       "      <td>Bridezilla</td>\n",
       "      <td>2019</td>\n",
       "      <td>NaN</td>\n",
       "      <td>5.8</td>\n",
       "      <td>34</td>\n",
       "      <td>Drama</td>\n",
       "      <td>1</td>\n",
       "      <td>0</td>\n",
       "    </tr>\n",
       "    <tr>\n",
       "      <th>24650</th>\n",
       "      <td>24650</td>\n",
       "      <td>24651</td>\n",
       "      <td>Elaan</td>\n",
       "      <td>1971</td>\n",
       "      <td>NaN</td>\n",
       "      <td>6.0</td>\n",
       "      <td>42</td>\n",
       "      <td>Drama</td>\n",
       "      <td>1</td>\n",
       "      <td>0</td>\n",
       "    </tr>\n",
       "    <tr>\n",
       "      <th>24651</th>\n",
       "      <td>24651</td>\n",
       "      <td>24652</td>\n",
       "      <td>The International</td>\n",
       "      <td>2009</td>\n",
       "      <td>NaN</td>\n",
       "      <td>6.3</td>\n",
       "      <td>36</td>\n",
       "      <td>Drama</td>\n",
       "      <td>1</td>\n",
       "      <td>0</td>\n",
       "    </tr>\n",
       "    <tr>\n",
       "      <th>24652</th>\n",
       "      <td>24652</td>\n",
       "      <td>24653</td>\n",
       "      <td>History of Joy</td>\n",
       "      <td>2017</td>\n",
       "      <td>NaN</td>\n",
       "      <td>5.1</td>\n",
       "      <td>28</td>\n",
       "      <td>Drama</td>\n",
       "      <td>1</td>\n",
       "      <td>0</td>\n",
       "    </tr>\n",
       "    <tr>\n",
       "      <th>24653</th>\n",
       "      <td>24653</td>\n",
       "      <td>24654</td>\n",
       "      <td>Himmatwala</td>\n",
       "      <td>2013</td>\n",
       "      <td>NaN</td>\n",
       "      <td>1.7</td>\n",
       "      <td>26</td>\n",
       "      <td>Drama</td>\n",
       "      <td>1</td>\n",
       "      <td>0</td>\n",
       "    </tr>\n",
       "    <tr>\n",
       "      <th>24654</th>\n",
       "      <td>24654</td>\n",
       "      <td>24655</td>\n",
       "      <td>S Storm</td>\n",
       "      <td>2016</td>\n",
       "      <td>13+</td>\n",
       "      <td>5.2</td>\n",
       "      <td>29</td>\n",
       "      <td>Drama</td>\n",
       "      <td>1</td>\n",
       "      <td>0</td>\n",
       "    </tr>\n",
       "    <tr>\n",
       "      <th>24655</th>\n",
       "      <td>24655</td>\n",
       "      <td>24656</td>\n",
       "      <td>X: Past Is Present</td>\n",
       "      <td>2015</td>\n",
       "      <td>13+</td>\n",
       "      <td>5.3</td>\n",
       "      <td>34</td>\n",
       "      <td>Drama</td>\n",
       "      <td>1</td>\n",
       "      <td>0</td>\n",
       "    </tr>\n",
       "    <tr>\n",
       "      <th>24656</th>\n",
       "      <td>24656</td>\n",
       "      <td>24657</td>\n",
       "      <td>Splatter</td>\n",
       "      <td>2015</td>\n",
       "      <td>NaN</td>\n",
       "      <td>3.1</td>\n",
       "      <td>31</td>\n",
       "      <td>Drama</td>\n",
       "      <td>1</td>\n",
       "      <td>0</td>\n",
       "    </tr>\n",
       "    <tr>\n",
       "      <th>24657</th>\n",
       "      <td>24657</td>\n",
       "      <td>24658</td>\n",
       "      <td>The Ant's Scream</td>\n",
       "      <td>2011</td>\n",
       "      <td>NaN</td>\n",
       "      <td>6.3</td>\n",
       "      <td>33</td>\n",
       "      <td>Drama</td>\n",
       "      <td>1</td>\n",
       "      <td>0</td>\n",
       "    </tr>\n",
       "    <tr>\n",
       "      <th>24658</th>\n",
       "      <td>24658</td>\n",
       "      <td>24659</td>\n",
       "      <td>Hole in the Wall</td>\n",
       "      <td>2017</td>\n",
       "      <td>NaN</td>\n",
       "      <td>7.9</td>\n",
       "      <td>41</td>\n",
       "      <td>Drama</td>\n",
       "      <td>1</td>\n",
       "      <td>0</td>\n",
       "    </tr>\n",
       "    <tr>\n",
       "      <th>24659</th>\n",
       "      <td>24659</td>\n",
       "      <td>24660</td>\n",
       "      <td>Mama's Boy</td>\n",
       "      <td>2018</td>\n",
       "      <td>NaN</td>\n",
       "      <td>4.9</td>\n",
       "      <td>33</td>\n",
       "      <td>Drama</td>\n",
       "      <td>1</td>\n",
       "      <td>0</td>\n",
       "    </tr>\n",
       "    <tr>\n",
       "      <th>24660</th>\n",
       "      <td>24660</td>\n",
       "      <td>24661</td>\n",
       "      <td>I Am Jonas</td>\n",
       "      <td>2018</td>\n",
       "      <td>NaN</td>\n",
       "      <td>7.0</td>\n",
       "      <td>52</td>\n",
       "      <td>Drama</td>\n",
       "      <td>1</td>\n",
       "      <td>0</td>\n",
       "    </tr>\n",
       "    <tr>\n",
       "      <th>24661</th>\n",
       "      <td>24661</td>\n",
       "      <td>24662</td>\n",
       "      <td>An Unremarkable Christmas</td>\n",
       "      <td>2020</td>\n",
       "      <td>NaN</td>\n",
       "      <td>3.6</td>\n",
       "      <td>41</td>\n",
       "      <td>Drama</td>\n",
       "      <td>1</td>\n",
       "      <td>0</td>\n",
       "    </tr>\n",
       "    <tr>\n",
       "      <th>24662</th>\n",
       "      <td>24662</td>\n",
       "      <td>24663</td>\n",
       "      <td>BlackRose</td>\n",
       "      <td>2018</td>\n",
       "      <td>NaN</td>\n",
       "      <td>NaN</td>\n",
       "      <td>na</td>\n",
       "      <td>Drama</td>\n",
       "      <td>1</td>\n",
       "      <td>0</td>\n",
       "    </tr>\n",
       "    <tr>\n",
       "      <th>24663</th>\n",
       "      <td>24663</td>\n",
       "      <td>24664</td>\n",
       "      <td>A Very Special Drew</td>\n",
       "      <td>2000</td>\n",
       "      <td>NaN</td>\n",
       "      <td>8.0</td>\n",
       "      <td>41</td>\n",
       "      <td>Drama</td>\n",
       "      <td>1</td>\n",
       "      <td>0</td>\n",
       "    </tr>\n",
       "  </tbody>\n",
       "</table>\n",
       "</div>"
      ],
      "text/plain": [
       "       Unnamed: 0     ID                      Title  Year Rating IMDb  \\\n",
       "24644       24644  24645                 Next Enti?  2018    NaN  4.5   \n",
       "24645       24645  24646                       Slam  2008    NaN  5.9   \n",
       "24646       24646  24647        III Smoking Barrels  2017    NaN  6.6   \n",
       "24647       24647  24648        Si Doel the Movie 2  2019    NaN  6.9   \n",
       "24648       24648  24649                      Kalki  2018    NaN  6.5   \n",
       "24649       24649  24650                 Bridezilla  2019    NaN  5.8   \n",
       "24650       24650  24651                      Elaan  1971    NaN  6.0   \n",
       "24651       24651  24652          The International  2009    NaN  6.3   \n",
       "24652       24652  24653             History of Joy  2017    NaN  5.1   \n",
       "24653       24653  24654                 Himmatwala  2013    NaN  1.7   \n",
       "24654       24654  24655                    S Storm  2016    13+  5.2   \n",
       "24655       24655  24656         X: Past Is Present  2015    13+  5.3   \n",
       "24656       24656  24657                   Splatter  2015    NaN  3.1   \n",
       "24657       24657  24658           The Ant's Scream  2011    NaN  6.3   \n",
       "24658       24658  24659           Hole in the Wall  2017    NaN  7.9   \n",
       "24659       24659  24660                 Mama's Boy  2018    NaN  4.9   \n",
       "24660       24660  24661                 I Am Jonas  2018    NaN  7.0   \n",
       "24661       24661  24662  An Unremarkable Christmas  2020    NaN  3.6   \n",
       "24662       24662  24663                  BlackRose  2018    NaN  NaN   \n",
       "24663       24663  24664        A Very Special Drew  2000    NaN  8.0   \n",
       "\n",
       "      Rotten Tomatoes  Genre  Netflix  Amazon Prime Video  \n",
       "24644              29  Drama        1                   0  \n",
       "24645              42  Drama        1                   0  \n",
       "24646              33  Drama        1                   0  \n",
       "24647              42  Drama        1                   0  \n",
       "24648              38  Drama        1                   0  \n",
       "24649              34  Drama        1                   0  \n",
       "24650              42  Drama        1                   0  \n",
       "24651              36  Drama        1                   0  \n",
       "24652              28  Drama        1                   0  \n",
       "24653              26  Drama        1                   0  \n",
       "24654              29  Drama        1                   0  \n",
       "24655              34  Drama        1                   0  \n",
       "24656              31  Drama        1                   0  \n",
       "24657              33  Drama        1                   0  \n",
       "24658              41  Drama        1                   0  \n",
       "24659              33  Drama        1                   0  \n",
       "24660              52  Drama        1                   0  \n",
       "24661              41  Drama        1                   0  \n",
       "24662              na  Drama        1                   0  \n",
       "24663              41  Drama        1                   0  "
      ]
     },
     "execution_count": 3,
     "metadata": {},
     "output_type": "execute_result"
    }
   ],
   "source": [
    "df.tail(20)"
   ]
  },
  {
   "cell_type": "code",
   "execution_count": 4,
   "id": "e67aa70c",
   "metadata": {},
   "outputs": [
    {
     "name": "stdout",
     "output_type": "stream",
     "text": [
      "<class 'pandas.core.frame.DataFrame'>\n",
      "RangeIndex: 24664 entries, 0 to 24663\n",
      "Data columns (total 10 columns):\n",
      " #   Column              Non-Null Count  Dtype \n",
      "---  ------              --------------  ----- \n",
      " 0   Unnamed: 0          24664 non-null  int64 \n",
      " 1   ID                  24664 non-null  int64 \n",
      " 2   Title               24664 non-null  object\n",
      " 3   Year                24664 non-null  int64 \n",
      " 4   Rating              10029 non-null  object\n",
      " 5   IMDb                24244 non-null  object\n",
      " 6   Rotten Tomatoes     24664 non-null  object\n",
      " 7   Genre               24664 non-null  object\n",
      " 8   Netflix             24664 non-null  int64 \n",
      " 9   Amazon Prime Video  24664 non-null  int64 \n",
      "dtypes: int64(5), object(5)\n",
      "memory usage: 1.9+ MB\n"
     ]
    }
   ],
   "source": [
    "df.info()"
   ]
  },
  {
   "cell_type": "markdown",
   "id": "3a254879",
   "metadata": {},
   "source": [
    "# Informasi yang diakses\n",
    "1. Jumlah record\n",
    "2. Nama attribute\n",
    "3. Jumlah attribute dengan tipe objek\n",
    "4. Jumlah attribute dengan tipe angka\n",
    "5. Jumlah attribute yang memiliki nilai null"
   ]
  },
  {
   "cell_type": "markdown",
   "id": "790f5864",
   "metadata": {},
   "source": [
    "### 1. Jumlah Record"
   ]
  },
  {
   "cell_type": "code",
   "execution_count": 5,
   "id": "d0fbe07c",
   "metadata": {},
   "outputs": [
    {
     "name": "stdout",
     "output_type": "stream",
     "text": [
      "24664\n"
     ]
    }
   ],
   "source": [
    "total = len(df)\n",
    "print(total)"
   ]
  },
  {
   "cell_type": "markdown",
   "id": "670c57be",
   "metadata": {},
   "source": [
    "### 2. Nama Attribute"
   ]
  },
  {
   "cell_type": "code",
   "execution_count": 6,
   "id": "edf33545",
   "metadata": {},
   "outputs": [
    {
     "name": "stdout",
     "output_type": "stream",
     "text": [
      "Index(['Unnamed: 0', 'ID', 'Title', 'Year', 'Rating', 'IMDb',\n",
      "       'Rotten Tomatoes', 'Genre', 'Netflix', 'Amazon Prime Video'],\n",
      "      dtype='object')\n"
     ]
    }
   ],
   "source": [
    "nama_atribut = df.columns\n",
    "print(nama_atribut)"
   ]
  },
  {
   "cell_type": "markdown",
   "id": "6beef495",
   "metadata": {},
   "source": [
    "### Jumlah Attribute"
   ]
  },
  {
   "cell_type": "code",
   "execution_count": 7,
   "id": "fc1bfc2c",
   "metadata": {},
   "outputs": [
    {
     "name": "stdout",
     "output_type": "stream",
     "text": [
      "10\n"
     ]
    }
   ],
   "source": [
    "total_atribut = len(df.columns)\n",
    "print(total_atribut)"
   ]
  },
  {
   "cell_type": "markdown",
   "id": "e1e5756a",
   "metadata": {},
   "source": [
    "### 3. Jumlah Attribute dengan tipe Objek"
   ]
  },
  {
   "cell_type": "code",
   "execution_count": 8,
   "id": "5e69ccec",
   "metadata": {},
   "outputs": [
    {
     "name": "stdout",
     "output_type": "stream",
     "text": [
      "5\n"
     ]
    }
   ],
   "source": [
    "objek = len(df.select_dtypes(include=['object']).columns)\n",
    "print(objek)"
   ]
  },
  {
   "cell_type": "markdown",
   "id": "f5b84bae",
   "metadata": {},
   "source": [
    "### 4. Jumlah Attribute dengan tipe Angka"
   ]
  },
  {
   "cell_type": "code",
   "execution_count": 9,
   "id": "a246d313",
   "metadata": {},
   "outputs": [
    {
     "name": "stdout",
     "output_type": "stream",
     "text": [
      "5\n"
     ]
    }
   ],
   "source": [
    "angka = len(df.select_dtypes(include=['int64','float64']).columns)\n",
    "print(angka)"
   ]
  },
  {
   "cell_type": "markdown",
   "id": "9b0a1cb9",
   "metadata": {},
   "source": [
    "### 5. Jumlah Attribute yang memiliki nilai Null"
   ]
  },
  {
   "cell_type": "code",
   "execution_count": 10,
   "id": "04f70f75",
   "metadata": {},
   "outputs": [
    {
     "name": "stdout",
     "output_type": "stream",
     "text": [
      "2\n"
     ]
    }
   ],
   "source": [
    "Null = len(df.columns[df.isnull().sum() > 0])\n",
    "print(Null)"
   ]
  },
  {
   "cell_type": "markdown",
   "id": "e09f8855",
   "metadata": {},
   "source": [
    "### Dictionary"
   ]
  },
  {
   "cell_type": "code",
   "execution_count": 11,
   "id": "cc3766f3",
   "metadata": {},
   "outputs": [
    {
     "name": "stdout",
     "output_type": "stream",
     "text": [
      "Record Dataset \t\t  \t:  24664\n",
      "Atribut Dataset \t  \t:  Index(['Unnamed: 0', 'ID', 'Title', 'Year', 'Rating', 'IMDb',\n",
      "       'Rotten Tomatoes', 'Genre', 'Netflix', 'Amazon Prime Video'],\n",
      "      dtype='object')\n",
      "Jumlah Atribut \t\t  \t:  10\n",
      "Jumlah atribut tipe objek  \t:  5\n",
      "Jumlah atribute tipe angka  \t:  5\n",
      "Jumlah Atribute memiliki null  \t:  2\n"
     ]
    }
   ],
   "source": [
    "dt = {  \"Record Dataset \\t\\t\" : total, \"Atribut Dataset \\t\" : nama_atribut, \"Jumlah Atribut \\t\\t\" : total_atribut, \"Jumlah atribut tipe objek\" : objek, \"Jumlah atribute tipe angka\" : angka, \"Jumlah Atribute memiliki null\" : Null\n",
    "}\n",
    "for key, value in dt.items():\n",
    "    print(key, ' \\t: ', value)"
   ]
  },
  {
   "cell_type": "markdown",
   "id": "293dd372",
   "metadata": {},
   "source": [
    "### Menampilkan :\n",
    "1. rata-rata\n",
    "2. standar deviasi\n",
    "3. nilai minimum\n",
    "4. nilai maksimum\n",
    "5. Q1, Q2, dan Q3\n",
    "dari attribute bertipe angka"
   ]
  },
  {
   "cell_type": "code",
   "execution_count": 12,
   "id": "5107b112",
   "metadata": {},
   "outputs": [
    {
     "data": {
      "text/html": [
       "<div>\n",
       "<style scoped>\n",
       "    .dataframe tbody tr th:only-of-type {\n",
       "        vertical-align: middle;\n",
       "    }\n",
       "\n",
       "    .dataframe tbody tr th {\n",
       "        vertical-align: top;\n",
       "    }\n",
       "\n",
       "    .dataframe thead th {\n",
       "        text-align: right;\n",
       "    }\n",
       "</style>\n",
       "<table border=\"1\" class=\"dataframe\">\n",
       "  <thead>\n",
       "    <tr style=\"text-align: right;\">\n",
       "      <th></th>\n",
       "      <th>Unnamed: 0</th>\n",
       "      <th>ID</th>\n",
       "      <th>Year</th>\n",
       "      <th>Netflix</th>\n",
       "      <th>Amazon Prime Video</th>\n",
       "    </tr>\n",
       "  </thead>\n",
       "  <tbody>\n",
       "    <tr>\n",
       "      <th>count</th>\n",
       "      <td>24664.000000</td>\n",
       "      <td>24664.000000</td>\n",
       "      <td>24664.000000</td>\n",
       "      <td>24664.000000</td>\n",
       "      <td>24664.000000</td>\n",
       "    </tr>\n",
       "    <tr>\n",
       "      <th>mean</th>\n",
       "      <td>12331.500000</td>\n",
       "      <td>12332.500000</td>\n",
       "      <td>2002.311953</td>\n",
       "      <td>0.163193</td>\n",
       "      <td>0.836807</td>\n",
       "    </tr>\n",
       "    <tr>\n",
       "      <th>std</th>\n",
       "      <td>7120.027856</td>\n",
       "      <td>7120.027856</td>\n",
       "      <td>21.788365</td>\n",
       "      <td>0.369549</td>\n",
       "      <td>0.369549</td>\n",
       "    </tr>\n",
       "    <tr>\n",
       "      <th>min</th>\n",
       "      <td>0.000000</td>\n",
       "      <td>1.000000</td>\n",
       "      <td>1912.000000</td>\n",
       "      <td>0.000000</td>\n",
       "      <td>0.000000</td>\n",
       "    </tr>\n",
       "    <tr>\n",
       "      <th>25%</th>\n",
       "      <td>6165.750000</td>\n",
       "      <td>6166.750000</td>\n",
       "      <td>1999.000000</td>\n",
       "      <td>0.000000</td>\n",
       "      <td>1.000000</td>\n",
       "    </tr>\n",
       "    <tr>\n",
       "      <th>50%</th>\n",
       "      <td>12331.500000</td>\n",
       "      <td>12332.500000</td>\n",
       "      <td>2012.000000</td>\n",
       "      <td>0.000000</td>\n",
       "      <td>1.000000</td>\n",
       "    </tr>\n",
       "    <tr>\n",
       "      <th>75%</th>\n",
       "      <td>18497.250000</td>\n",
       "      <td>18498.250000</td>\n",
       "      <td>2016.000000</td>\n",
       "      <td>0.000000</td>\n",
       "      <td>1.000000</td>\n",
       "    </tr>\n",
       "    <tr>\n",
       "      <th>max</th>\n",
       "      <td>24663.000000</td>\n",
       "      <td>24664.000000</td>\n",
       "      <td>2021.000000</td>\n",
       "      <td>1.000000</td>\n",
       "      <td>1.000000</td>\n",
       "    </tr>\n",
       "  </tbody>\n",
       "</table>\n",
       "</div>"
      ],
      "text/plain": [
       "         Unnamed: 0            ID          Year       Netflix  \\\n",
       "count  24664.000000  24664.000000  24664.000000  24664.000000   \n",
       "mean   12331.500000  12332.500000   2002.311953      0.163193   \n",
       "std     7120.027856   7120.027856     21.788365      0.369549   \n",
       "min        0.000000      1.000000   1912.000000      0.000000   \n",
       "25%     6165.750000   6166.750000   1999.000000      0.000000   \n",
       "50%    12331.500000  12332.500000   2012.000000      0.000000   \n",
       "75%    18497.250000  18498.250000   2016.000000      0.000000   \n",
       "max    24663.000000  24664.000000   2021.000000      1.000000   \n",
       "\n",
       "       Amazon Prime Video  \n",
       "count        24664.000000  \n",
       "mean             0.836807  \n",
       "std              0.369549  \n",
       "min              0.000000  \n",
       "25%              1.000000  \n",
       "50%              1.000000  \n",
       "75%              1.000000  \n",
       "max              1.000000  "
      ]
     },
     "execution_count": 12,
     "metadata": {},
     "output_type": "execute_result"
    }
   ],
   "source": [
    "df.describe()"
   ]
  },
  {
   "cell_type": "markdown",
   "id": "5374c332",
   "metadata": {},
   "source": [
    "### Menampilkan nilai korelasi"
   ]
  },
  {
   "cell_type": "code",
   "execution_count": 13,
   "id": "21c9eab2",
   "metadata": {},
   "outputs": [
    {
     "data": {
      "text/html": [
       "<div>\n",
       "<style scoped>\n",
       "    .dataframe tbody tr th:only-of-type {\n",
       "        vertical-align: middle;\n",
       "    }\n",
       "\n",
       "    .dataframe tbody tr th {\n",
       "        vertical-align: top;\n",
       "    }\n",
       "\n",
       "    .dataframe thead th {\n",
       "        text-align: right;\n",
       "    }\n",
       "</style>\n",
       "<table border=\"1\" class=\"dataframe\">\n",
       "  <thead>\n",
       "    <tr style=\"text-align: right;\">\n",
       "      <th></th>\n",
       "      <th>Unnamed: 0</th>\n",
       "      <th>ID</th>\n",
       "      <th>Year</th>\n",
       "      <th>Netflix</th>\n",
       "      <th>Amazon Prime Video</th>\n",
       "    </tr>\n",
       "  </thead>\n",
       "  <tbody>\n",
       "    <tr>\n",
       "      <th>Unnamed: 0</th>\n",
       "      <td>1.000000</td>\n",
       "      <td>1.000000</td>\n",
       "      <td>0.053521</td>\n",
       "      <td>0.640065</td>\n",
       "      <td>-0.640065</td>\n",
       "    </tr>\n",
       "    <tr>\n",
       "      <th>ID</th>\n",
       "      <td>1.000000</td>\n",
       "      <td>1.000000</td>\n",
       "      <td>0.053521</td>\n",
       "      <td>0.640065</td>\n",
       "      <td>-0.640065</td>\n",
       "    </tr>\n",
       "    <tr>\n",
       "      <th>Year</th>\n",
       "      <td>0.053521</td>\n",
       "      <td>0.053521</td>\n",
       "      <td>1.000000</td>\n",
       "      <td>0.225056</td>\n",
       "      <td>-0.225056</td>\n",
       "    </tr>\n",
       "    <tr>\n",
       "      <th>Netflix</th>\n",
       "      <td>0.640065</td>\n",
       "      <td>0.640065</td>\n",
       "      <td>0.225056</td>\n",
       "      <td>1.000000</td>\n",
       "      <td>-1.000000</td>\n",
       "    </tr>\n",
       "    <tr>\n",
       "      <th>Amazon Prime Video</th>\n",
       "      <td>-0.640065</td>\n",
       "      <td>-0.640065</td>\n",
       "      <td>-0.225056</td>\n",
       "      <td>-1.000000</td>\n",
       "      <td>1.000000</td>\n",
       "    </tr>\n",
       "  </tbody>\n",
       "</table>\n",
       "</div>"
      ],
      "text/plain": [
       "                    Unnamed: 0        ID      Year   Netflix  \\\n",
       "Unnamed: 0            1.000000  1.000000  0.053521  0.640065   \n",
       "ID                    1.000000  1.000000  0.053521  0.640065   \n",
       "Year                  0.053521  0.053521  1.000000  0.225056   \n",
       "Netflix               0.640065  0.640065  0.225056  1.000000   \n",
       "Amazon Prime Video   -0.640065 -0.640065 -0.225056 -1.000000   \n",
       "\n",
       "                    Amazon Prime Video  \n",
       "Unnamed: 0                   -0.640065  \n",
       "ID                           -0.640065  \n",
       "Year                         -0.225056  \n",
       "Netflix                      -1.000000  \n",
       "Amazon Prime Video            1.000000  "
      ]
     },
     "execution_count": 13,
     "metadata": {},
     "output_type": "execute_result"
    }
   ],
   "source": [
    "df.corr()"
   ]
  },
  {
   "cell_type": "markdown",
   "id": "f2a0b400",
   "metadata": {},
   "source": [
    "### Mengubah nilai salah satu attribute bertipe angka menjadi desimal 3 angka dibelakang koma"
   ]
  },
  {
   "cell_type": "code",
   "execution_count": 14,
   "id": "e0da917d",
   "metadata": {},
   "outputs": [
    {
     "data": {
      "text/plain": [
       "0        2.019\n",
       "1        2.019\n",
       "2        2.019\n",
       "3        2.019\n",
       "4        2.019\n",
       "         ...  \n",
       "24659    2.018\n",
       "24660    2.018\n",
       "24661    2.020\n",
       "24662    2.018\n",
       "24663    2.000\n",
       "Name: Year, Length: 24664, dtype: float64"
      ]
     },
     "execution_count": 14,
     "metadata": {},
     "output_type": "execute_result"
    }
   ],
   "source": [
    "df[\"Year\"]* 0.001"
   ]
  },
  {
   "cell_type": "markdown",
   "id": "fb59b6b6",
   "metadata": {},
   "source": [
    "### Menampilkan 10 record pertama dari attribute bertipe angka"
   ]
  },
  {
   "cell_type": "code",
   "execution_count": 17,
   "id": "35f1976b",
   "metadata": {},
   "outputs": [
    {
     "data": {
      "text/html": [
       "<div>\n",
       "<style scoped>\n",
       "    .dataframe tbody tr th:only-of-type {\n",
       "        vertical-align: middle;\n",
       "    }\n",
       "\n",
       "    .dataframe tbody tr th {\n",
       "        vertical-align: top;\n",
       "    }\n",
       "\n",
       "    .dataframe thead th {\n",
       "        text-align: right;\n",
       "    }\n",
       "</style>\n",
       "<table border=\"1\" class=\"dataframe\">\n",
       "  <thead>\n",
       "    <tr style=\"text-align: right;\">\n",
       "      <th></th>\n",
       "      <th>Unnamed: 0</th>\n",
       "      <th>ID</th>\n",
       "      <th>Year</th>\n",
       "      <th>Netflix</th>\n",
       "      <th>Amazon Prime Video</th>\n",
       "    </tr>\n",
       "  </thead>\n",
       "  <tbody>\n",
       "    <tr>\n",
       "      <th>0</th>\n",
       "      <td>0</td>\n",
       "      <td>1</td>\n",
       "      <td>2019</td>\n",
       "      <td>0</td>\n",
       "      <td>1</td>\n",
       "    </tr>\n",
       "    <tr>\n",
       "      <th>1</th>\n",
       "      <td>1</td>\n",
       "      <td>2</td>\n",
       "      <td>2019</td>\n",
       "      <td>0</td>\n",
       "      <td>1</td>\n",
       "    </tr>\n",
       "    <tr>\n",
       "      <th>2</th>\n",
       "      <td>2</td>\n",
       "      <td>3</td>\n",
       "      <td>2019</td>\n",
       "      <td>0</td>\n",
       "      <td>1</td>\n",
       "    </tr>\n",
       "    <tr>\n",
       "      <th>3</th>\n",
       "      <td>3</td>\n",
       "      <td>4</td>\n",
       "      <td>2019</td>\n",
       "      <td>0</td>\n",
       "      <td>1</td>\n",
       "    </tr>\n",
       "    <tr>\n",
       "      <th>4</th>\n",
       "      <td>4</td>\n",
       "      <td>5</td>\n",
       "      <td>2019</td>\n",
       "      <td>0</td>\n",
       "      <td>1</td>\n",
       "    </tr>\n",
       "    <tr>\n",
       "      <th>5</th>\n",
       "      <td>5</td>\n",
       "      <td>6</td>\n",
       "      <td>2019</td>\n",
       "      <td>0</td>\n",
       "      <td>1</td>\n",
       "    </tr>\n",
       "    <tr>\n",
       "      <th>6</th>\n",
       "      <td>6</td>\n",
       "      <td>7</td>\n",
       "      <td>2020</td>\n",
       "      <td>0</td>\n",
       "      <td>1</td>\n",
       "    </tr>\n",
       "    <tr>\n",
       "      <th>7</th>\n",
       "      <td>7</td>\n",
       "      <td>8</td>\n",
       "      <td>2020</td>\n",
       "      <td>0</td>\n",
       "      <td>1</td>\n",
       "    </tr>\n",
       "    <tr>\n",
       "      <th>8</th>\n",
       "      <td>8</td>\n",
       "      <td>9</td>\n",
       "      <td>2012</td>\n",
       "      <td>0</td>\n",
       "      <td>1</td>\n",
       "    </tr>\n",
       "    <tr>\n",
       "      <th>9</th>\n",
       "      <td>9</td>\n",
       "      <td>10</td>\n",
       "      <td>2019</td>\n",
       "      <td>0</td>\n",
       "      <td>1</td>\n",
       "    </tr>\n",
       "  </tbody>\n",
       "</table>\n",
       "</div>"
      ],
      "text/plain": [
       "   Unnamed: 0  ID  Year  Netflix  Amazon Prime Video\n",
       "0           0   1  2019        0                   1\n",
       "1           1   2  2019        0                   1\n",
       "2           2   3  2019        0                   1\n",
       "3           3   4  2019        0                   1\n",
       "4           4   5  2019        0                   1\n",
       "5           5   6  2019        0                   1\n",
       "6           6   7  2020        0                   1\n",
       "7           7   8  2020        0                   1\n",
       "8           8   9  2012        0                   1\n",
       "9           9  10  2019        0                   1"
      ]
     },
     "execution_count": 17,
     "metadata": {},
     "output_type": "execute_result"
    }
   ],
   "source": [
    "data_angka = df.select_dtypes(include=[\"int64\",\"float64\"])\n",
    "data_angka.head(10)"
   ]
  },
  {
   "cell_type": "markdown",
   "id": "d51c52a1",
   "metadata": {},
   "source": [
    "### Menyimpan dataset dengan attribute bertipe angka ke dalam file CSV"
   ]
  },
  {
   "cell_type": "code",
   "execution_count": 18,
   "id": "bf857629",
   "metadata": {},
   "outputs": [],
   "source": [
    "data_angka.to_csv('data_angka.csv', index=False)"
   ]
  },
  {
   "cell_type": "code",
   "execution_count": null,
   "id": "5e69590a",
   "metadata": {},
   "outputs": [],
   "source": []
  }
 ],
 "metadata": {
  "kernelspec": {
   "display_name": "Krisdt_064",
   "language": "python",
   "name": "krisdt_064"
  },
  "language_info": {
   "codemirror_mode": {
    "name": "ipython",
    "version": 3
   },
   "file_extension": ".py",
   "mimetype": "text/x-python",
   "name": "python",
   "nbconvert_exporter": "python",
   "pygments_lexer": "ipython3",
   "version": "3.10.7"
  }
 },
 "nbformat": 4,
 "nbformat_minor": 5
}
